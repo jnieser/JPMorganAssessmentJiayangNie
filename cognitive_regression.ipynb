{
 "cells": [
  {
   "cell_type": "code",
   "execution_count": 1,
   "metadata": {},
   "outputs": [],
   "source": [
    "import pandas as pd\n",
    "import seaborn as sbn\n",
    "import matplotlib.pyplot as plt\n",
    "import numpy as np\n",
    "from sklearn.feature_selection import f_regression\n",
    "import statsmodels.api as sm\n",
    "from sklearn.metrics import mean_absolute_percentage_error"
   ]
  },
  {
   "cell_type": "markdown",
   "metadata": {},
   "source": [
    "## 1. Prepare the data, rename variables as you see fit and justify. Propose the types of data for each variable (python data types)."
   ]
  },
  {
   "cell_type": "markdown",
   "metadata": {},
   "source": [
    "### Proposed Data Types:\n",
    "\n",
    "Child's IQ should be numeric and float,\n",
    "\n",
    "Mother's IQ should be numeric and float,\n",
    "\n",
    "Mother's Age should be numeric and float,\n",
    "\n",
    "Mother's Education Index should be numeric and integer,\n",
    "\n",
    "Mother's Working Index should be numeric and integer.\n",
    "\n",
    "I propose iq and age to be double/float because they should be continuous variables. Although due to measurement unit, child's iq and mother's age can be expressed as integers, it is better to leave them as double.\n",
    "\n",
    "I propose education index and working index as integer because it fits better in the linear regression, and there will be an additional one-hot-encoding for working index."
   ]
  },
  {
   "cell_type": "code",
   "execution_count": 2,
   "metadata": {},
   "outputs": [
    {
     "data": {
      "text/plain": [
       "variable\n",
       "a        434\n",
       "h        434\n",
       "i        434\n",
       "score    434\n",
       "w        434\n",
       "��င��      1\n",
       "dtype: int64"
      ]
     },
     "execution_count": 2,
     "metadata": {},
     "output_type": "execute_result"
    }
   ],
   "source": [
    "raw_data = pd.read_csv(\"data.txt\", sep=\"|\")\n",
    "raw_data.value_counts('variable')"
   ]
  },
  {
   "cell_type": "markdown",
   "metadata": {},
   "source": [
    "*Insight*: One of the rows is not unicoded, and it seems it should be disposed because all five variables have the same number of occurances."
   ]
  },
  {
   "cell_type": "code",
   "execution_count": 3,
   "metadata": {},
   "outputs": [
    {
     "name": "stdout",
     "output_type": "stream",
     "text": [
      "894 0xC0\n"
     ]
    }
   ],
   "source": [
    "# Locate the error code\n",
    "for i, val in enumerate(raw_data['index']):\n",
    "    try:\n",
    "        int(val)\n",
    "    except:\n",
    "        print(i, val)"
   ]
  },
  {
   "cell_type": "code",
   "execution_count": 4,
   "metadata": {},
   "outputs": [
    {
     "data": {
      "text/plain": [
       "index        0xC0\n",
       "variable    ��င��\n",
       "value       ��မ�?\n",
       "Name: 894, dtype: object"
      ]
     },
     "execution_count": 4,
     "metadata": {},
     "output_type": "execute_result"
    }
   ],
   "source": [
    "raw_data.iloc[894]"
   ]
  },
  {
   "cell_type": "code",
   "execution_count": 5,
   "metadata": {},
   "outputs": [
    {
     "data": {
      "text/plain": [
       "index                      893\n",
       "variable                     i\n",
       "value       '121.748013460479'\n",
       "Name: 893, dtype: object"
      ]
     },
     "execution_count": 5,
     "metadata": {},
     "output_type": "execute_result"
    }
   ],
   "source": [
    "raw_data.iloc[893]\n"
   ]
  },
  {
   "cell_type": "code",
   "execution_count": 6,
   "metadata": {},
   "outputs": [
    {
     "data": {
      "text/plain": [
       "index                      894\n",
       "variable                     i\n",
       "value       '98.7480786989934'\n",
       "Name: 895, dtype: object"
      ]
     },
     "execution_count": 6,
     "metadata": {},
     "output_type": "execute_result"
    }
   ],
   "source": [
    "raw_data.iloc[895]"
   ]
  },
  {
   "cell_type": "markdown",
   "metadata": {},
   "source": [
    "*Insight*: Indeed, there is no gap in between two rows and the 0xC0 hex number is 192 also seems meaningless."
   ]
  },
  {
   "cell_type": "markdown",
   "metadata": {},
   "source": [
    "## 2. Transform the data so it's easy to analyze - describe what you did and why"
   ]
  },
  {
   "cell_type": "markdown",
   "metadata": {},
   "source": [
    "### What did I do?\n",
    "\n",
    "The raw data is a txt file and each line represents a variable value for a unit. I first used a list dictionary of variable names as keys to hold the values, and create a pandas dataframe from this dictionary object.\n",
    "\n",
    "Then, I will run one-hot encoding for mother's working index and removing one column to avoid multicolliearity. I won't drop the original mother_work_idx for now for EDA in the next section."
   ]
  },
  {
   "cell_type": "code",
   "execution_count": 7,
   "metadata": {},
   "outputs": [],
   "source": [
    "var_list = ['score', 'h', 'i', 'w', 'a']\n",
    "data_dict = {}\n",
    "for var in var_list:\n",
    "    data_dict[var] = []"
   ]
  },
  {
   "cell_type": "code",
   "execution_count": 8,
   "metadata": {},
   "outputs": [],
   "source": [
    "for variable, value in zip(raw_data['variable'], raw_data['value']):\n",
    "    if variable == raw_data.iloc[894]['variable']:\n",
    "        continue\n",
    "    else:\n",
    "        data_dict[variable].append(value)"
   ]
  },
  {
   "cell_type": "code",
   "execution_count": 9,
   "metadata": {},
   "outputs": [],
   "source": [
    "data = pd.DataFrame(data_dict)\n",
    "data.columns = ['child_iq', 'mother_edu_idx', 'mother_iq', 'mother_work_idx', 'mother_age']"
   ]
  },
  {
   "cell_type": "code",
   "execution_count": 10,
   "metadata": {},
   "outputs": [],
   "source": [
    "data['child_iq'] = data['child_iq'].astype(\"double\")\n",
    "data['mother_iq'] = data['mother_iq'].apply(lambda x: x[1:-1])\n",
    "data['mother_iq'] = data['mother_iq'].astype(\"double\")\n",
    "data['mother_edu_idx'] = data['mother_edu_idx'].astype(\"int\")\n",
    "data['mother_work_idx'] = data['mother_work_idx'].astype(\"int\")\n",
    "data['mother_age'] = data['mother_age'].astype(\"double\")\n"
   ]
  },
  {
   "cell_type": "code",
   "execution_count": 11,
   "metadata": {},
   "outputs": [],
   "source": [
    "mother_work_idx_dummy = pd.get_dummies(data['mother_work_idx'])\n",
    "mother_work_idx_dummy.columns = ['no_work_three_years', 'no_work_first_year', 'part_time_first_year', 'full_time_first_year']\n",
    "mother_work_idx_dummy.drop('no_work_three_years', inplace=True, axis=1)\n",
    "data = pd.concat((data, mother_work_idx_dummy), axis=1)"
   ]
  },
  {
   "cell_type": "code",
   "execution_count": 12,
   "metadata": {},
   "outputs": [
    {
     "data": {
      "text/html": [
       "<div>\n",
       "<style scoped>\n",
       "    .dataframe tbody tr th:only-of-type {\n",
       "        vertical-align: middle;\n",
       "    }\n",
       "\n",
       "    .dataframe tbody tr th {\n",
       "        vertical-align: top;\n",
       "    }\n",
       "\n",
       "    .dataframe thead th {\n",
       "        text-align: right;\n",
       "    }\n",
       "</style>\n",
       "<table border=\"1\" class=\"dataframe\">\n",
       "  <thead>\n",
       "    <tr style=\"text-align: right;\">\n",
       "      <th></th>\n",
       "      <th>child_iq</th>\n",
       "      <th>mother_edu_idx</th>\n",
       "      <th>mother_iq</th>\n",
       "      <th>mother_work_idx</th>\n",
       "      <th>mother_age</th>\n",
       "      <th>no_work_first_year</th>\n",
       "      <th>part_time_first_year</th>\n",
       "      <th>full_time_first_year</th>\n",
       "    </tr>\n",
       "  </thead>\n",
       "  <tbody>\n",
       "    <tr>\n",
       "      <th>0</th>\n",
       "      <td>65.0</td>\n",
       "      <td>1</td>\n",
       "      <td>121.117529</td>\n",
       "      <td>4</td>\n",
       "      <td>27.0</td>\n",
       "      <td>0</td>\n",
       "      <td>0</td>\n",
       "      <td>1</td>\n",
       "    </tr>\n",
       "    <tr>\n",
       "      <th>1</th>\n",
       "      <td>98.0</td>\n",
       "      <td>1</td>\n",
       "      <td>89.361882</td>\n",
       "      <td>4</td>\n",
       "      <td>25.0</td>\n",
       "      <td>0</td>\n",
       "      <td>0</td>\n",
       "      <td>1</td>\n",
       "    </tr>\n",
       "    <tr>\n",
       "      <th>2</th>\n",
       "      <td>85.0</td>\n",
       "      <td>1</td>\n",
       "      <td>115.443165</td>\n",
       "      <td>4</td>\n",
       "      <td>27.0</td>\n",
       "      <td>0</td>\n",
       "      <td>0</td>\n",
       "      <td>1</td>\n",
       "    </tr>\n",
       "    <tr>\n",
       "      <th>3</th>\n",
       "      <td>83.0</td>\n",
       "      <td>1</td>\n",
       "      <td>99.449639</td>\n",
       "      <td>3</td>\n",
       "      <td>25.0</td>\n",
       "      <td>0</td>\n",
       "      <td>1</td>\n",
       "      <td>0</td>\n",
       "    </tr>\n",
       "    <tr>\n",
       "      <th>4</th>\n",
       "      <td>115.0</td>\n",
       "      <td>1</td>\n",
       "      <td>92.745710</td>\n",
       "      <td>4</td>\n",
       "      <td>27.0</td>\n",
       "      <td>0</td>\n",
       "      <td>0</td>\n",
       "      <td>1</td>\n",
       "    </tr>\n",
       "  </tbody>\n",
       "</table>\n",
       "</div>"
      ],
      "text/plain": [
       "   child_iq  mother_edu_idx   mother_iq  mother_work_idx  mother_age  \\\n",
       "0      65.0               1  121.117529                4        27.0   \n",
       "1      98.0               1   89.361882                4        25.0   \n",
       "2      85.0               1  115.443165                4        27.0   \n",
       "3      83.0               1   99.449639                3        25.0   \n",
       "4     115.0               1   92.745710                4        27.0   \n",
       "\n",
       "   no_work_first_year  part_time_first_year  full_time_first_year  \n",
       "0                   0                     0                     1  \n",
       "1                   0                     0                     1  \n",
       "2                   0                     0                     1  \n",
       "3                   0                     1                     0  \n",
       "4                   0                     0                     1  "
      ]
     },
     "execution_count": 12,
     "metadata": {},
     "output_type": "execute_result"
    }
   ],
   "source": [
    "data.head()"
   ]
  },
  {
   "cell_type": "markdown",
   "metadata": {},
   "source": [
    "*Insight*: It is unclear how mother_iq can have so many decimal places, but in linear regression, the decimal places won't make a big difference so I will keep those values."
   ]
  },
  {
   "cell_type": "markdown",
   "metadata": {},
   "source": [
    "## 3. Perform the exploratory data analysis"
   ]
  },
  {
   "cell_type": "markdown",
   "metadata": {},
   "source": [
    "I will visulize the data by correlation map, histplots, and boxplots.\n",
    "\n",
    "I will then statistically test feautres' importances through ANOVA and correlation coefficient."
   ]
  },
  {
   "cell_type": "code",
   "execution_count": 13,
   "metadata": {},
   "outputs": [
    {
     "data": {
      "text/plain": [
       "child_iq                0\n",
       "mother_edu_idx          0\n",
       "mother_iq               0\n",
       "mother_work_idx         0\n",
       "mother_age              0\n",
       "no_work_first_year      0\n",
       "part_time_first_year    0\n",
       "full_time_first_year    0\n",
       "dtype: int64"
      ]
     },
     "execution_count": 13,
     "metadata": {},
     "output_type": "execute_result"
    }
   ],
   "source": [
    "data.isna().sum()"
   ]
  },
  {
   "cell_type": "markdown",
   "metadata": {},
   "source": [
    "- ### Correlation Map"
   ]
  },
  {
   "cell_type": "code",
   "execution_count": 14,
   "metadata": {},
   "outputs": [
    {
     "data": {
      "text/plain": [
       "<AxesSubplot:>"
      ]
     },
     "execution_count": 14,
     "metadata": {},
     "output_type": "execute_result"
    },
    {
     "data": {
      "image/png": "[encoded data removed]",
      "text/plain": [
       "<Figure size 720x720 with 2 Axes>"
      ]
     },
     "metadata": {
      "needs_background": "light"
     },
     "output_type": "display_data"
    }
   ],
   "source": [
    "plt.figure(figsize=(10,10))\n",
    "sbn.heatmap(data[['child_iq', 'mother_iq', 'mother_age']].corr())"
   ]
  },
  {
   "cell_type": "markdown",
   "metadata": {},
   "source": [
    "*Insight*: Multicollienarity is not a big issue here, but explanatory variables do not have a high correlation with the response variable either."
   ]
  },
  {
   "cell_type": "code",
   "execution_count": 15,
   "metadata": {},
   "outputs": [],
   "source": [
    "def distribution_dist_plots(data, features, ncols):\n",
    "    nrows = int(len(features) / ncols) + 1\n",
    "    fig, axes = plt.subplots(nrows, ncols, figsize=(16, round(nrows*16/ncols)))\n",
    "    for ax,feature in zip(axes.ravel()[:len(features)],features):\n",
    "        sbn.histplot(data[feature][data[feature].notnull()],ax=ax)\n",
    "    for ax in axes.ravel()[len(features):]:\n",
    "        ax.set_visible(False)\n",
    "    fig.tight_layout()\n",
    "    plt.show()\n"
   ]
  },
  {
   "cell_type": "markdown",
   "metadata": {},
   "source": [
    "- ### Plot distributions"
   ]
  },
  {
   "cell_type": "markdown",
   "metadata": {},
   "source": [
    "    - Continuous Variables Distribution"
   ]
  },
  {
   "cell_type": "code",
   "execution_count": 16,
   "metadata": {},
   "outputs": [
    {
     "data": {
      "image/png": "[encoded data removed]",
      "text/plain": [
       "<Figure size 1152x792 with 6 Axes>"
      ]
     },
     "metadata": {
      "needs_background": "light"
     },
     "output_type": "display_data"
    }
   ],
   "source": [
    "distribution_dist_plots(data, ['child_iq', 'mother_iq', 'mother_age'], 3)"
   ]
  },
  {
   "cell_type": "markdown",
   "metadata": {},
   "source": [
    "*Insight*: Mother's age is approximately normal, Child's IQ is slightly left skewed and Mother's IQ is slightly right skewed."
   ]
  },
  {
   "cell_type": "markdown",
   "metadata": {},
   "source": [
    "    - Child's IQ v.s. Mother's IQ"
   ]
  },
  {
   "cell_type": "code",
   "execution_count": 17,
   "metadata": {},
   "outputs": [
    {
     "data": {
      "text/plain": [
       "Text(0, 0.5, \"Child' IQ\")"
      ]
     },
     "execution_count": 17,
     "metadata": {},
     "output_type": "execute_result"
    },
    {
     "data": {
      "image/png": "[encoded data removed]",
      "text/plain": [
       "<Figure size 720x720 with 1 Axes>"
      ]
     },
     "metadata": {
      "needs_background": "light"
     },
     "output_type": "display_data"
    }
   ],
   "source": [
    "plt.figure(figsize=(10,10))\n",
    "sbn.scatterplot(data=data, x='mother_iq', y='child_iq')\n",
    "plt.title('Child\\'s IQ v.s. Mother\\'s IQ')\n",
    "plt.xlabel('Mother\\'s IQ')\n",
    "plt.ylabel('Child\\' IQ')"
   ]
  },
  {
   "cell_type": "markdown",
   "metadata": {},
   "source": [
    "*Insight*: the relationship between Child's IQ and Mother's IQ is approximately linear."
   ]
  },
  {
   "cell_type": "markdown",
   "metadata": {},
   "source": [
    "    - Comparison of Distirbutions Among Categorical Variables"
   ]
  },
  {
   "cell_type": "code",
   "execution_count": 18,
   "metadata": {},
   "outputs": [
    {
     "data": {
      "text/plain": [
       "<AxesSubplot:xlabel='mother_age', ylabel='child_iq'>"
      ]
     },
     "execution_count": 18,
     "metadata": {},
     "output_type": "execute_result"
    },
    {
     "data": {
      "image/png": "[encoded data removed]",
      "text/plain": [
       "<Figure size 1440x576 with 3 Axes>"
      ]
     },
     "metadata": {
      "needs_background": "light"
     },
     "output_type": "display_data"
    }
   ],
   "source": [
    "fig, axes = plt.subplots(1, 3, figsize=(20,8))\n",
    "sbn.boxplot(data=data, x='mother_edu_idx', y='child_iq', ax=axes[0])\n",
    "sbn.boxplot(data=data, x='mother_work_idx', y='child_iq', ax=axes[1])\n",
    "sbn.boxplot(data=data, x='mother_age', y='child_iq', ax=axes[2])\n"
   ]
  },
  {
   "cell_type": "markdown",
   "metadata": {},
   "source": [
    "*Insight*: Mother's Educatoin Level seems like an important predictor."
   ]
  },
  {
   "cell_type": "markdown",
   "metadata": {},
   "source": [
    "    - Categorical Variable Distributions"
   ]
  },
  {
   "cell_type": "code",
   "execution_count": 19,
   "metadata": {},
   "outputs": [
    {
     "data": {
      "text/plain": [
       "<AxesSubplot:xlabel='mother_work_idx', ylabel='count'>"
      ]
     },
     "execution_count": 19,
     "metadata": {},
     "output_type": "execute_result"
    },
    {
     "data": {
      "image/png": "[encoded data removed]",
      "text/plain": [
       "<Figure size 1440x576 with 2 Axes>"
      ]
     },
     "metadata": {
      "needs_background": "light"
     },
     "output_type": "display_data"
    }
   ],
   "source": [
    "fig, axes = plt.subplots(1, 2, figsize=(20,8))\n",
    "sbn.countplot(data=data, x='mother_edu_idx', ax=axes[0])\n",
    "sbn.countplot(data=data, x='mother_work_idx',ax=axes[1])\n"
   ]
  },
  {
   "cell_type": "markdown",
   "metadata": {},
   "source": [
    "*Insight*: Most mothers have high school degree, and most mothers choose to work in full-time for the first year since giving birth."
   ]
  },
  {
   "cell_type": "markdown",
   "metadata": {},
   "source": [
    "    - New Feature: Interaction between mother work index and mother education level"
   ]
  },
  {
   "cell_type": "code",
   "execution_count": 20,
   "metadata": {},
   "outputs": [
    {
     "data": {
      "text/plain": [
       "Text(0.5, 0, '1: No High School Degree and No Work in the First Three Years; 0: Otherwise')"
      ]
     },
     "execution_count": 20,
     "metadata": {},
     "output_type": "execute_result"
    },
    {
     "data": {
      "image/png": "[encoded data removed]",
      "text/plain": [
       "<Figure size 720x720 with 1 Axes>"
      ]
     },
     "metadata": {
      "needs_background": "light"
     },
     "output_type": "display_data"
    }
   ],
   "source": [
    "data['no_work_no_degree'] = (data['mother_work_idx']==1) * (1-data['mother_edu_idx'])\n",
    "plt.figure(figsize=(10,10))\n",
    "sbn.boxplot(x= data['no_work_no_degree'], y=data['child_iq'])\n",
    "plt.xlabel(\"1: No High School Degree and No Work in the First Three Years; 0: Otherwise\")"
   ]
  },
  {
   "cell_type": "markdown",
   "metadata": {},
   "source": [
    "- ### Statistical Testings"
   ]
  },
  {
   "cell_type": "markdown",
   "metadata": {},
   "source": [
    "    - ANOVA"
   ]
  },
  {
   "cell_type": "code",
   "execution_count": 21,
   "metadata": {},
   "outputs": [
    {
     "name": "stderr",
     "output_type": "stream",
     "text": [
      "c:\\Users\\86773\\anaconda3\\lib\\site-packages\\sklearn\\utils\\validation.py:993: DataConversionWarning: A column-vector y was passed when a 1d array was expected. Please change the shape of y to (n_samples, ), for example using ravel().\n",
      "  y = column_or_1d(y, warn=True)\n"
     ]
    }
   ],
   "source": [
    "anova_scores = f_regression(data[['mother_edu_idx', 'mother_work_idx', 'mother_age', 'no_work_no_degree']], data[['child_iq']])\n",
    "anova_df = pd.DataFrame(anova_scores[1], columns=['ANOVA P-Value'], index=['mother_edu_idx', 'mother_work_idx', 'mother_age', 'no_work_no_degree'])\n",
    "anova_df.sort_values('ANOVA P-Value', ascending=True, inplace=True)"
   ]
  },
  {
   "cell_type": "code",
   "execution_count": 22,
   "metadata": {},
   "outputs": [
    {
     "data": {
      "text/html": [
       "<div>\n",
       "<style scoped>\n",
       "    .dataframe tbody tr th:only-of-type {\n",
       "        vertical-align: middle;\n",
       "    }\n",
       "\n",
       "    .dataframe tbody tr th {\n",
       "        vertical-align: top;\n",
       "    }\n",
       "\n",
       "    .dataframe thead th {\n",
       "        text-align: right;\n",
       "    }\n",
       "</style>\n",
       "<table border=\"1\" class=\"dataframe\">\n",
       "  <thead>\n",
       "    <tr style=\"text-align: right;\">\n",
       "      <th></th>\n",
       "      <th>ANOVA P-Value</th>\n",
       "    </tr>\n",
       "  </thead>\n",
       "  <tbody>\n",
       "    <tr>\n",
       "      <th>mother_edu_idx</th>\n",
       "      <td>5.956524e-07</td>\n",
       "    </tr>\n",
       "    <tr>\n",
       "      <th>no_work_no_degree</th>\n",
       "      <td>2.231062e-06</td>\n",
       "    </tr>\n",
       "    <tr>\n",
       "      <th>mother_age</th>\n",
       "      <td>5.547935e-02</td>\n",
       "    </tr>\n",
       "    <tr>\n",
       "      <th>mother_work_idx</th>\n",
       "      <td>6.850355e-02</td>\n",
       "    </tr>\n",
       "  </tbody>\n",
       "</table>\n",
       "</div>"
      ],
      "text/plain": [
       "                   ANOVA P-Value\n",
       "mother_edu_idx      5.956524e-07\n",
       "no_work_no_degree   2.231062e-06\n",
       "mother_age          5.547935e-02\n",
       "mother_work_idx     6.850355e-02"
      ]
     },
     "execution_count": 22,
     "metadata": {},
     "output_type": "execute_result"
    }
   ],
   "source": [
    "anova_df"
   ]
  },
  {
   "cell_type": "markdown",
   "metadata": {},
   "source": [
    "    - Correlation Coefficients"
   ]
  },
  {
   "cell_type": "code",
   "execution_count": 23,
   "metadata": {},
   "outputs": [],
   "source": [
    "corr = [np.corrcoef(data['mother_iq'], data['child_iq'])[0][1], \\\n",
    "    np.corrcoef(data['mother_age'], data['child_iq'])[0][1]]\n",
    "corr = pd.DataFrame(corr, columns=['Correlation'], index=['mother_iq', 'mother_age'])\n",
    "corr.sort_values('Correlation', ascending=True, inplace=True)\n"
   ]
  },
  {
   "cell_type": "code",
   "execution_count": 24,
   "metadata": {},
   "outputs": [
    {
     "data": {
      "text/html": [
       "<div>\n",
       "<style scoped>\n",
       "    .dataframe tbody tr th:only-of-type {\n",
       "        vertical-align: middle;\n",
       "    }\n",
       "\n",
       "    .dataframe tbody tr th {\n",
       "        vertical-align: top;\n",
       "    }\n",
       "\n",
       "    .dataframe thead th {\n",
       "        text-align: right;\n",
       "    }\n",
       "</style>\n",
       "<table border=\"1\" class=\"dataframe\">\n",
       "  <thead>\n",
       "    <tr style=\"text-align: right;\">\n",
       "      <th></th>\n",
       "      <th>Correlation</th>\n",
       "    </tr>\n",
       "  </thead>\n",
       "  <tbody>\n",
       "    <tr>\n",
       "      <th>mother_age</th>\n",
       "      <td>0.091998</td>\n",
       "    </tr>\n",
       "    <tr>\n",
       "      <th>mother_iq</th>\n",
       "      <td>0.448276</td>\n",
       "    </tr>\n",
       "  </tbody>\n",
       "</table>\n",
       "</div>"
      ],
      "text/plain": [
       "            Correlation\n",
       "mother_age     0.091998\n",
       "mother_iq      0.448276"
      ]
     },
     "execution_count": 24,
     "metadata": {},
     "output_type": "execute_result"
    }
   ],
   "source": [
    "corr"
   ]
  },
  {
   "cell_type": "markdown",
   "metadata": {},
   "source": [
    "*Insight*: Mother's Education has a strong predictive power by ANOVA test, and mother_iq is another strong predictor by its Pearson correlation coefficient. The new feature I did is also strong so it could be used in 4.3. Mother's age or mother's work status are not very important."
   ]
  },
  {
   "cell_type": "markdown",
   "metadata": {},
   "source": [
    "## 4. Perform a linear regression where the regressand is child's IQ\n",
    "    1. using a single predictor"
   ]
  },
  {
   "cell_type": "markdown",
   "metadata": {},
   "source": [
    "I choose to use mother_iq as the predictor because there exists a linear relation between mother_iq and child_iq, mother_iq and child_iq has a moderately high correlation, and it intuitively makes sense."
   ]
  },
  {
   "cell_type": "code",
   "execution_count": 25,
   "metadata": {},
   "outputs": [
    {
     "name": "stdout",
     "output_type": "stream",
     "text": [
      "                            OLS Regression Results                            \n",
      "==============================================================================\n",
      "Dep. Variable:               child_iq   R-squared:                       0.201\n",
      "Model:                            OLS   Adj. R-squared:                  0.199\n",
      "Method:                 Least Squares   F-statistic:                     108.6\n",
      "Date:                Sun, 27 Nov 2022   Prob (F-statistic):           7.66e-23\n",
      "Time:                        21:58:13   Log-Likelihood:                -1875.6\n",
      "No. Observations:                 434   AIC:                             3755.\n",
      "Df Residuals:                     432   BIC:                             3763.\n",
      "Df Model:                           1                                         \n",
      "Covariance Type:            nonrobust                                         \n",
      "==============================================================================\n",
      "                 coef    std err          t      P>|t|      [0.025      0.975]\n",
      "------------------------------------------------------------------------------\n",
      "mother_iq      0.6100      0.059     10.423      0.000       0.495       0.725\n",
      "const         25.7998      5.917      4.360      0.000      14.169      37.430\n",
      "==============================================================================\n",
      "Omnibus:                        7.545   Durbin-Watson:                   1.645\n",
      "Prob(Omnibus):                  0.023   Jarque-Bera (JB):                7.735\n",
      "Skew:                          -0.324   Prob(JB):                       0.0209\n",
      "Kurtosis:                       2.919   Cond. No.                         682.\n",
      "==============================================================================\n",
      "\n",
      "Notes:\n",
      "[1] Standard Errors assume that the covariance matrix of the errors is correctly specified.\n"
     ]
    }
   ],
   "source": [
    "X = data[['mother_iq']]\n",
    "X = sm.add_constant(X, prepend=False)\n",
    "mod = sm.OLS(data[['child_iq']], X)\n",
    "reg = mod.fit()\n",
    "print(reg.summary())"
   ]
  },
  {
   "cell_type": "code",
   "execution_count": 26,
   "metadata": {},
   "outputs": [
    {
     "name": "stdout",
     "output_type": "stream",
     "text": [
      "RMSE is 18.223986351421466\n",
      "Mean absolute percentage error is 0.19966954284067015\n"
     ]
    }
   ],
   "source": [
    "print(\"RMSE is\", np.sqrt(np.mean(reg.resid**2)))\n",
    "print(\"Mean absolute percentage error is\", mean_absolute_percentage_error(data['child_iq'],reg.predict(X)))"
   ]
  },
  {
   "cell_type": "code",
   "execution_count": 27,
   "metadata": {},
   "outputs": [
    {
     "name": "stderr",
     "output_type": "stream",
     "text": [
      "c:\\Users\\86773\\anaconda3\\lib\\site-packages\\seaborn\\_decorators.py:36: FutureWarning: Pass the following variables as keyword args: x, y. From version 0.12, the only valid positional argument will be `data`, and passing other arguments without an explicit keyword will result in an error or misinterpretation.\n",
      "  warnings.warn(\n"
     ]
    },
    {
     "data": {
      "text/plain": [
       "Text(0, 0.5, 'Predicted IQ')"
      ]
     },
     "execution_count": 27,
     "metadata": {},
     "output_type": "execute_result"
    },
    {
     "data": {
      "image/png": "[encoded data removed]",
      "text/plain": [
       "<Figure size 720x720 with 1 Axes>"
      ]
     },
     "metadata": {
      "needs_background": "light"
     },
     "output_type": "display_data"
    }
   ],
   "source": [
    "plt.figure(figsize=(10,10))\n",
    "sbn.scatterplot(data['child_iq'], reg.predict(X))\n",
    "plt.title('Predicted IQ v.s. Actual IQ')\n",
    "plt.xlabel('Actual IQ')\n",
    "plt.ylabel('Predicted IQ')"
   ]
  },
  {
   "cell_type": "code",
   "execution_count": 28,
   "metadata": {},
   "outputs": [
    {
     "name": "stderr",
     "output_type": "stream",
     "text": [
      "c:\\Users\\86773\\anaconda3\\lib\\site-packages\\seaborn\\_decorators.py:36: FutureWarning: Pass the following variables as keyword args: x, y. From version 0.12, the only valid positional argument will be `data`, and passing other arguments without an explicit keyword will result in an error or misinterpretation.\n",
      "  warnings.warn(\n"
     ]
    },
    {
     "data": {
      "text/plain": [
       "Text(0, 0.5, 'Error')"
      ]
     },
     "execution_count": 28,
     "metadata": {},
     "output_type": "execute_result"
    },
    {
     "data": {
      "image/png": "[encoded data removed]",
      "text/plain": [
       "<Figure size 720x720 with 1 Axes>"
      ]
     },
     "metadata": {
      "needs_background": "light"
     },
     "output_type": "display_data"
    }
   ],
   "source": [
    "plt.figure(figsize=(10,10))\n",
    "sbn.scatterplot(reg.predict(X), reg.resid)\n",
    "plt.title('Error v.s. Predicted IQ')\n",
    "plt.xlabel('Predicted IQ')\n",
    "plt.ylabel('Error')"
   ]
  },
  {
   "cell_type": "markdown",
   "metadata": {},
   "source": [
    "*Model Explanation*:\n",
    "This is a simple linear regression model, with mother's iq as the only feature to predict child's iq. An interception term is added to center the residual."
   ]
  },
  {
   "cell_type": "markdown",
   "metadata": {},
   "source": [
    "*Model Assumption*: The assumption is that there exists a linear relationship between mother's iq and child's iq. Also, the errors should have equal variance."
   ]
  },
  {
   "cell_type": "markdown",
   "metadata": {},
   "source": [
    "*Regression Results*: \n",
    "\n",
    "Mother's IQ is clearly an important predictor. It achieves an RMSE of 18.22 and MAPE of 20%. So, on average, the predicted value is within 20% of it actual value.\n",
    "\n",
    "The interpretation is that one more mother's iq corresponds to 0.61 child's iq. This is the so-called regression effect, if the explanatory variable goes up by 1 s.d., then the response variable only goes up by around 0.45 (its correlation) s.d. \n",
    "\n",
    "By the Error v.s. Predicted IQ plot, we can see that there isn't an obvious heterskadasity issue. \n",
    "\n",
    "By the Predicted IQ v.s. Actual IQ plot, we can also see this regression effect problem: the prediction is always more \"conservative\" than the actual IQ.\n",
    "\n",
    "In conclusion, the assumptions of linear regression satisfied, and 1 unit increase in mother's iq corresponds to 0.61 unit increase in child's iq. Also, 1 s.d. increase in mother's iq corrspond to 0.45 s.d. increase in child's iq."
   ]
  },
  {
   "cell_type": "markdown",
   "metadata": {},
   "source": [
    "    2. using multiple predictors"
   ]
  },
  {
   "cell_type": "code",
   "execution_count": 29,
   "metadata": {},
   "outputs": [
    {
     "name": "stdout",
     "output_type": "stream",
     "text": [
      "                            OLS Regression Results                            \n",
      "==============================================================================\n",
      "Dep. Variable:               child_iq   R-squared:                       0.214\n",
      "Model:                            OLS   Adj. R-squared:                  0.210\n",
      "Method:                 Least Squares   F-statistic:                     58.72\n",
      "Date:                Sun, 27 Nov 2022   Prob (F-statistic):           2.79e-23\n",
      "Time:                        21:58:14   Log-Likelihood:                -1872.0\n",
      "No. Observations:                 434   AIC:                             3750.\n",
      "Df Residuals:                     431   BIC:                             3762.\n",
      "Df Model:                           2                                         \n",
      "Covariance Type:            nonrobust                                         \n",
      "==================================================================================\n",
      "                     coef    std err          t      P>|t|      [0.025      0.975]\n",
      "----------------------------------------------------------------------------------\n",
      "mother_iq          0.5639      0.061      9.309      0.000       0.445       0.683\n",
      "mother_edu_idx     5.9501      2.212      2.690      0.007       1.603      10.297\n",
      "const             25.7315      5.875      4.380      0.000      14.184      37.279\n",
      "==============================================================================\n",
      "Omnibus:                        7.327   Durbin-Watson:                   1.625\n",
      "Prob(Omnibus):                  0.026   Jarque-Bera (JB):                7.530\n",
      "Skew:                          -0.313   Prob(JB):                       0.0232\n",
      "Kurtosis:                       2.845   Cond. No.                         683.\n",
      "==============================================================================\n",
      "\n",
      "Notes:\n",
      "[1] Standard Errors assume that the covariance matrix of the errors is correctly specified.\n"
     ]
    }
   ],
   "source": [
    "X = data[['mother_iq', 'mother_edu_idx']]\n",
    "X = sm.add_constant(X, prepend=False)\n",
    "mod = sm.OLS(data[['child_iq']], X)\n",
    "reg = mod.fit()\n",
    "print(reg.summary())"
   ]
  },
  {
   "cell_type": "code",
   "execution_count": 30,
   "metadata": {},
   "outputs": [
    {
     "name": "stdout",
     "output_type": "stream",
     "text": [
      "RMSE is 18.072886832854252\n",
      "Mean absolute percentage error is 0.19768132716529077\n"
     ]
    }
   ],
   "source": [
    "print(\"RMSE is\", np.sqrt(np.mean(reg.resid**2)))\n",
    "print(\"Mean absolute percentage error is\", mean_absolute_percentage_error(data['child_iq'],reg.predict(X)))"
   ]
  },
  {
   "cell_type": "markdown",
   "metadata": {},
   "source": [
    "*Model Explanation*: The model is a multiple linear regression model containing two features: mother's iq and mother's education background index: 1 means she has high school education and 0 otherwise. An interception term is also included to center the residual."
   ]
  },
  {
   "cell_type": "markdown",
   "metadata": {},
   "source": [
    "*Model Assumption*: The assumption is that there exists a linear relationship between mother's iq and child's iq, and mother's education background is important for explaning child's iq. The two explanatory features should be orthogonal. Also, the errors should have equal variance."
   ]
  },
  {
   "cell_type": "markdown",
   "metadata": {},
   "source": [
    "*Regression Results*: I include mother_iq and mother_edu_idx because they are the features that are verified to be important by visulization and statistical testing. I exlcude age and work status as they are not important and may add extra variance to the model to reduce the statistical power of their t-test results.\n",
    "\n",
    "This multiple regression model has a RMSE of 18.07 and AMPE of 19.8%, similar to that performance of single linear regression. However, since this project is more about inference than predicting, the coefficients contain more information.\n",
    "\n",
    "Both mother_iq and mother_edu_idx are important features. The interpretation is: keep mother's education level fixed, one more mother's iq is equivalent to 0.56 increase in child's iq by the model. **This is the genetic aspect of IQ**.\n",
    "\n",
    "On the other hand, keep the mother's iq fixed, having a high school degree leads to 5.9 more iq of her child's iq. **This is the family education aspect of IQ**."
   ]
  },
  {
   "cell_type": "markdown",
   "metadata": {},
   "source": [
    "    3. using multiple predictors with an interaction term\n"
   ]
  },
  {
   "cell_type": "code",
   "execution_count": 31,
   "metadata": {},
   "outputs": [
    {
     "name": "stdout",
     "output_type": "stream",
     "text": [
      "                            OLS Regression Results                            \n",
      "==============================================================================\n",
      "Dep. Variable:               child_iq   R-squared:                       0.222\n",
      "Model:                            OLS   Adj. R-squared:                  0.216\n",
      "Method:                 Least Squares   F-statistic:                     40.82\n",
      "Date:                Sun, 27 Nov 2022   Prob (F-statistic):           3.16e-23\n",
      "Time:                        21:58:14   Log-Likelihood:                -1869.9\n",
      "No. Observations:                 434   AIC:                             3748.\n",
      "Df Residuals:                     430   BIC:                             3764.\n",
      "Df Model:                           3                                         \n",
      "Covariance Type:            nonrobust                                         \n",
      "=====================================================================================\n",
      "                        coef    std err          t      P>|t|      [0.025      0.975]\n",
      "-------------------------------------------------------------------------------------\n",
      "mother_iq             0.5556      0.060      9.184      0.000       0.437       0.674\n",
      "mother_edu_idx        3.2017      2.585      1.239      0.216      -1.879       8.282\n",
      "no_work_no_degree    -7.9884      3.925     -2.035      0.042     -15.703      -0.273\n",
      "const                29.3329      6.116      4.796      0.000      17.313      41.353\n",
      "==============================================================================\n",
      "Omnibus:                        8.026   Durbin-Watson:                   1.629\n",
      "Prob(Omnibus):                  0.018   Jarque-Bera (JB):                8.273\n",
      "Skew:                          -0.333   Prob(JB):                       0.0160\n",
      "Kurtosis:                       2.880   Cond. No.                         736.\n",
      "==============================================================================\n",
      "\n",
      "Notes:\n",
      "[1] Standard Errors assume that the covariance matrix of the errors is correctly specified.\n"
     ]
    }
   ],
   "source": [
    "X = data[['mother_iq', 'mother_edu_idx', 'no_work_no_degree']]\n",
    "X = sm.add_constant(X, prepend=False)\n",
    "mod = sm.OLS(data[['child_iq']], X)\n",
    "reg = mod.fit()\n",
    "print(reg.summary())"
   ]
  },
  {
   "cell_type": "code",
   "execution_count": 32,
   "metadata": {},
   "outputs": [
    {
     "name": "stdout",
     "output_type": "stream",
     "text": [
      "The correlation between the interaction term and the education feature is -0.5493137863828143\n"
     ]
    }
   ],
   "source": [
    "print(\"The correlation between the interaction term and the education feature is\", np.corrcoef(data['no_work_no_degree'], data['mother_edu_idx'])[0][1])"
   ]
  },
  {
   "cell_type": "code",
   "execution_count": 33,
   "metadata": {},
   "outputs": [
    {
     "name": "stdout",
     "output_type": "stream",
     "text": [
      "The new feature is well-balanced because the ratio of samples who has a one for this feature is 0.07603686635944701\n"
     ]
    }
   ],
   "source": [
    "print(\"The new feature is well-balanced because the ratio of samples who has a one for this feature is\", np.mean(data['no_work_no_degree']))"
   ]
  },
  {
   "cell_type": "code",
   "execution_count": 277,
   "metadata": {},
   "outputs": [
    {
     "name": "stdout",
     "output_type": "stream",
     "text": [
      "RMSE is 17.986471100936896\n",
      "Mean absolute percentage error is 0.19663103979925045\n"
     ]
    }
   ],
   "source": [
    "print(\"RMSE is\", np.sqrt(np.mean(reg.resid**2)))\n",
    "print(\"Mean absolute percentage error is\", mean_absolute_percentage_error(data['child_iq'],reg.predict(X)))"
   ]
  },
  {
   "cell_type": "markdown",
   "metadata": {},
   "source": [
    "*Model Explanation*: This is a multiple linear regression model with three features: mother's iq, mother's education index, and an interaction term as an indicator:  1 means the mother does not have a college degree and did not work the first three years since giving birth. This term includes the interaction effect between education index and work index."
   ]
  },
  {
   "cell_type": "markdown",
   "metadata": {},
   "source": [
    "*Model Assumption*: The assumption is that there exists a linear relationship between mother's iq and child's iq, and mother's education background and the interaction term are important for explaning child's iq. The three explanatory features should be orthogonal. This assumption is mildly violated. Also, the errors should have equal variance."
   ]
  },
  {
   "cell_type": "markdown",
   "metadata": {},
   "source": [
    "*Regression Results*: \n",
    "\n",
    "Here, in addition of mother's iq and mother's education background, I include an interaction indicator.\n",
    "\n",
    "Of course, this new interaction term is correlated with education index, therefore we see the mother's education index is no longer significant. But both the new feature and mother's iq are important. we can also see a drop in both RMSE and MAPE and a slight increase in adjusted R-square.\n",
    "\n",
    "The interpretation of mother's iq and mother's education background remain similar. The interesting feature is the interaction term. It means that keep mother's iq fixed, if the mother does not have high school education, then not working for the first three years will have a signifiicantly negative impact on her child's IQ. However, for mothers who have high school education, it is not reasonable to use this interpretation."
   ]
  }
 ],
 "metadata": {
  "kernelspec": {
   "display_name": "Python 3.8.8 ('base')",
   "language": "python",
   "name": "python3"
  },
  "language_info": {
   "codemirror_mode": {
    "name": "ipython",
    "version": 3
   },
   "file_extension": ".py",
   "mimetype": "text/x-python",
   "name": "python",
   "nbconvert_exporter": "python",
   "pygments_lexer": "ipython3",
   "version": "3.8.8"
  },
  "orig_nbformat": 4,
  "vscode": {
   "interpreter": {
    "hash": "34207aa4cb7e91510ae9cdbcb18d9b4b46fb355c8cfbd925c6071600eab39147"
   }
  }
 },
 "nbformat": 4,
 "nbformat_minor": 2
}
